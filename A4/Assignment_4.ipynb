{
  "nbformat": 4,
  "nbformat_minor": 0,
  "metadata": {
    "colab": {
      "provenance": []
    },
    "kernelspec": {
      "name": "python3",
      "display_name": "Python 3"
    },
    "language_info": {
      "name": "python"
    }
  },
  "cells": [
    {
      "cell_type": "markdown",
      "source": [
        "Question 1"
      ],
      "metadata": {
        "id": "gy0z774yFRus"
      }
    },
    {
      "cell_type": "code",
      "execution_count": 1,
      "metadata": {
        "colab": {
          "base_uri": "https://localhost:8080/"
        },
        "id": "8rxd7lNIFFfN",
        "outputId": "4019ba50-7494-4211-8dea-4be8e624d74d"
      },
      "outputs": [
        {
          "output_type": "stream",
          "name": "stdout",
          "text": [
            "Array after adding 2 to all elements: [3 4 5 6 7]\n",
            "after mul [ 3  6  9 12 15]\n",
            "after div [0.5 1.  1.5 2.  2.5]\n"
          ]
        }
      ],
      "source": [
        "import numpy as np\n",
        "arr=np.array([1,2,3,4,5])\n",
        "arr_add = arr + 2\n",
        "print(\"Array after adding 2 to all elements:\", arr_add)\n",
        "arr_mul= arr*3\n",
        "print(\"after mul\",arr_mul)\n",
        "arr_div= arr/2\n",
        "print(\"after div\",arr_div)"
      ]
    },
    {
      "cell_type": "markdown",
      "source": [
        "Question 2a"
      ],
      "metadata": {
        "id": "KF-2QPqUFaEo"
      }
    },
    {
      "cell_type": "code",
      "source": [
        "import numpy as np\n",
        "arr=np.array([1,2,3,6,4,5])\n",
        "arr_reversed = arr[::-1]\n",
        "print(\"arr_reversed is\",arr_reversed)"
      ],
      "metadata": {
        "colab": {
          "base_uri": "https://localhost:8080/"
        },
        "id": "R57sojHbFhyU",
        "outputId": "c5c88237-b885-4eec-ef53-f4ba524796e6"
      },
      "execution_count": 2,
      "outputs": [
        {
          "output_type": "stream",
          "name": "stdout",
          "text": [
            "arr_reversed is [5 4 6 3 2 1]\n"
          ]
        }
      ]
    },
    {
      "cell_type": "markdown",
      "source": [
        "Question 2b"
      ],
      "metadata": {
        "id": "eLxQxvchFnLG"
      }
    },
    {
      "cell_type": "code",
      "source": [
        "import numpy as np\n",
        "\n",
        "x = np.array([1, 2, 3, 4, 5, 1, 2, 1, 1, 1])\n",
        "unique_values, counts = np.unique(x, return_counts=True)\n",
        "\n",
        "most_frequent_value = unique_values[np.argmax(counts)]\n",
        "\n",
        "indices = np.where(x == most_frequent_value)[0]\n",
        "\n",
        "print(f\"Most frequent value: {most_frequent_value}\")\n",
        "print(f\"Indices of most frequent value: {indices}\")\n",
        "\n",
        "\n",
        "y = np.array([1, 1, 1, 2, 3, 4, 2, 4, 3, 3, ])\n",
        "unique_values, counts = np.unique(y, return_counts=True)\n",
        "\n",
        "most_frequent_value = unique_values[np.argmax(counts)]\n",
        "\n",
        "indices = np.where(y == most_frequent_value)[0]\n",
        "\n",
        "print(f\"Most frequent value: {most_frequent_value}\")\n",
        "print(f\"Indices of most frequent value: {indices}\")"
      ],
      "metadata": {
        "colab": {
          "base_uri": "https://localhost:8080/"
        },
        "id": "vxFapbIpFpsr",
        "outputId": "aceb8679-cae5-473f-bfe6-fc6ed3ac4a9b"
      },
      "execution_count": 3,
      "outputs": [
        {
          "output_type": "stream",
          "name": "stdout",
          "text": [
            "Most frequent value: 1\n",
            "Indices of most frequent value: [0 5 7 8 9]\n",
            "Most frequent value: 1\n",
            "Indices of most frequent value: [0 1 2]\n"
          ]
        }
      ]
    },
    {
      "cell_type": "markdown",
      "source": [
        "Question 3"
      ],
      "metadata": {
        "id": "8D96Jd7kFsra"
      }
    },
    {
      "cell_type": "code",
      "source": [
        "import numpy as np\n",
        "arr=np.array([[10, 20, 30], [40, 50, 60], [70, 80, 90]])\n",
        "threea=arr[0,1]\n",
        "threeb=arr[2,0]\n",
        "print(\"first row second col \",threea )\n",
        "print(\"third row first col \",threeb)"
      ],
      "metadata": {
        "colab": {
          "base_uri": "https://localhost:8080/"
        },
        "id": "5bsg_B_AFxPB",
        "outputId": "24a575a9-aa65-475d-d6ca-b66d2fdcbeaf"
      },
      "execution_count": 4,
      "outputs": [
        {
          "output_type": "stream",
          "name": "stdout",
          "text": [
            "first row second col  20\n",
            "third row first col  70\n"
          ]
        }
      ]
    },
    {
      "cell_type": "markdown",
      "source": [
        "Question 4"
      ],
      "metadata": {
        "id": "XX7icJsAF9_1"
      }
    },
    {
      "cell_type": "code",
      "source": [
        "import numpy as np\n",
        "bhaskar=np.linspace(10,100,25)\n",
        "print(\"array is :\",bhaskar)\n",
        "print(\"dimension of array: \",bhaskar.ndim)\n",
        "print(\"shape of array: \",bhaskar.shape)\n",
        "print(\"shape of array: \",bhaskar.size)\n",
        "print(\"shape of array: \",bhaskar.dtype)\n",
        "print(\"shape of array: \",bhaskar.nbytes)\n",
        "transposed_array_reshape = bhaskar.reshape((1, -1))\n",
        "print(\"Transpose using reshape():\", transposed_array_reshape)"
      ],
      "metadata": {
        "colab": {
          "base_uri": "https://localhost:8080/"
        },
        "id": "uPJo6L57F_4i",
        "outputId": "ed880450-9448-45c1-efb7-a367df7566f8"
      },
      "execution_count": 5,
      "outputs": [
        {
          "output_type": "stream",
          "name": "stdout",
          "text": [
            "array is : [ 10.    13.75  17.5   21.25  25.    28.75  32.5   36.25  40.    43.75\n",
            "  47.5   51.25  55.    58.75  62.5   66.25  70.    73.75  77.5   81.25\n",
            "  85.    88.75  92.5   96.25 100.  ]\n",
            "dimension of array:  1\n",
            "shape of array:  (25,)\n",
            "shape of array:  25\n",
            "shape of array:  float64\n",
            "shape of array:  200\n",
            "Transpose using reshape(): [[ 10.    13.75  17.5   21.25  25.    28.75  32.5   36.25  40.    43.75\n",
            "   47.5   51.25  55.    58.75  62.5   66.25  70.    73.75  77.5   81.25\n",
            "   85.    88.75  92.5   96.25 100.  ]]\n"
          ]
        }
      ]
    },
    {
      "cell_type": "markdown",
      "source": [
        "Question 5"
      ],
      "metadata": {
        "id": "SjRFwhbHGE2t"
      }
    },
    {
      "cell_type": "code",
      "source": [
        "import numpy as np\n",
        "ucs420_bhaskar=np.array([[10, 20, 30, 40],\n",
        "                       [50, 60, 70, 80],\n",
        "                       [90, 15, 20, 35]])\n",
        "mean=np.mean(ucs420_bhaskar)\n",
        "median=np.median(ucs420_bhaskar)\n",
        "max=np.max(ucs420_bhaskar)\n",
        "min=np.min(ucs420_bhaskar)\n",
        "unique=np.unique(ucs420_bhaskar)\n",
        "print(\"unique is \",unique)\n",
        "print(\"mean is \",mean)\n",
        "print(\"median is \",median)\n",
        "print(\"max is \",max)\n",
        "print(\"min is \",min)\n",
        "\n",
        "reshaped_ucs420_bhaskar=ucs420_bhaskar.reshape(4,3)\n",
        "print(\"reshaped is \",reshaped_ucs420_bhaskar)\n",
        "\n",
        "resized_ucs420_bhaskar=np.resize(ucs420_bhaskar,(2,3))\n",
        "print(\"resized is \",resized_ucs420_bhaskar)"
      ],
      "metadata": {
        "colab": {
          "base_uri": "https://localhost:8080/"
        },
        "id": "2WM5rryqGGgV",
        "outputId": "a263f1c8-e78c-4890-8c98-c991027d339c"
      },
      "execution_count": 6,
      "outputs": [
        {
          "output_type": "stream",
          "name": "stdout",
          "text": [
            "unique is  [10 15 20 30 35 40 50 60 70 80 90]\n",
            "mean is  43.333333333333336\n",
            "median is  37.5\n",
            "max is  90\n",
            "min is  10\n",
            "reshaped is  [[10 20 30]\n",
            " [40 50 60]\n",
            " [70 80 90]\n",
            " [15 20 35]]\n",
            "resized is  [[10 20 30]\n",
            " [40 50 60]]\n"
          ]
        }
      ]
    }
  ]
}